{
 "cells": [
  {
   "cell_type": "code",
   "execution_count": 1,
   "metadata": {},
   "outputs": [],
   "source": [
    "import os\n",
    "import sys\n",
    "import netCDF4 as nc"
   ]
  },
  {
   "cell_type": "code",
   "execution_count": 2,
   "metadata": {},
   "outputs": [],
   "source": [
    "filename = \"../../dataset/temporal_0_25/era5_cloud/data2000.nc\""
   ]
  },
  {
   "cell_type": "code",
   "execution_count": 3,
   "metadata": {},
   "outputs": [],
   "source": [
    "dd = nc.Dataset(filename, 'r')"
   ]
  },
  {
   "cell_type": "code",
   "execution_count": 4,
   "metadata": {},
   "outputs": [
    {
     "data": {
      "text/plain": [
       "<class 'netCDF4._netCDF4.Dataset'>\n",
       "root group (NETCDF3_64BIT_OFFSET data model, file format NETCDF3):\n",
       "    Conventions: CF-1.6\n",
       "    history: 2023-09-19 21:24:33 GMT by grib_to_netcdf-2.25.1: /opt/ecmwf/mars-client/bin/grib_to_netcdf.bin -S param -o /cache/data6/adaptor.mars.internal-1695158464.7712195-19800-3-524e494f-0c9b-4f9c-9a1c-ca582b0f6235.nc /cache/tmp/524e494f-0c9b-4f9c-9a1c-ca582b0f6235-adaptor.mars.internal-1695157981.9263983-19800-5-tmp.grib\n",
       "    dimensions(sizes): longitude(1440), latitude(721), time(8784)\n",
       "    variables(dimensions): float32 longitude(longitude), float32 latitude(latitude), int32 time(time), int16 cc(time, latitude, longitude)\n",
       "    groups: "
      ]
     },
     "execution_count": 4,
     "metadata": {},
     "output_type": "execute_result"
    }
   ],
   "source": [
    "dd # 8784 hours in a year(366 days)"
   ]
  },
  {
   "cell_type": "code",
   "execution_count": null,
   "metadata": {},
   "outputs": [],
   "source": [
    "# <class 'netCDF4._netCDF4.Dataset'>\n",
    "# root group (NETCDF3_64BIT_OFFSET data model, file format NETCDF3):\n",
    "#     Conventions: CF-1.6\n",
    "#     history: 2023-09-19 21:24:33 GMT by grib_to_netcdf-2.25.1: /opt/ecmwf/mars-client/bin/grib_to_netcdf.bin -S param -o /cache/data6/adaptor.mars.internal-1695158464.7712195-19800-3-524e494f-0c9b-4f9c-9a1c-ca582b0f6235.nc /cache/tmp/524e494f-0c9b-4f9c-9a1c-ca582b0f6235-adaptor.mars.internal-1695157981.9263983-19800-5-tmp.grib\n",
    "#     dimensions(sizes): longitude(1440), latitude(721), time(8784)\n",
    "#     variables(dimensions): float32 longitude(longitude), float32 latitude(latitude), int32 time(time), int16 cc(time, latitude, longitude)\n",
    "#     groups: "
   ]
  }
 ],
 "metadata": {
  "kernelspec": {
   "display_name": "sinr",
   "language": "python",
   "name": "python3"
  },
  "language_info": {
   "codemirror_mode": {
    "name": "ipython",
    "version": 3
   },
   "file_extension": ".py",
   "mimetype": "text/x-python",
   "name": "python",
   "nbconvert_exporter": "python",
   "pygments_lexer": "ipython3",
   "version": "3.9.12"
  },
  "orig_nbformat": 4
 },
 "nbformat": 4,
 "nbformat_minor": 2
}
