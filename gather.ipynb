{
 "cells": [
  {
   "cell_type": "code",
   "execution_count": 1,
   "metadata": {},
   "outputs": [
    {
     "data": {
      "text/plain": [
       "'\\nall_level_pixel_index (torch.tensor)  : [n_levels, batch]\\nall_level_neigh_index (torch.tensor)  : [n_levels, 8, batch]\\nall_level_pixel_latlon (torch.tensor) : [n_levels, batch, 2]\\n'"
      ]
     },
     "execution_count": 1,
     "metadata": {},
     "output_type": "execute_result"
    }
   ],
   "source": [
    "'''\n",
    "all_level_pixel_index (torch.tensor)  : [n_levels, batch]\n",
    "all_level_neigh_index (torch.tensor)  : [n_levels, 8, batch]\n",
    "all_level_pixel_latlon (torch.tensor) : [n_levels, batch, 2]\n",
    "'''"
   ]
  },
  {
   "cell_type": "code",
   "execution_count": 2,
   "metadata": {},
   "outputs": [
    {
     "name": "stderr",
     "output_type": "stream",
     "text": [
      "/compuworks/anaconda3/envs/hm_healpy/lib/python3.10/site-packages/tqdm/auto.py:21: TqdmWarning: IProgress not found. Please update jupyter and ipywidgets. See https://ipywidgets.readthedocs.io/en/stable/user_install.html\n",
      "  from .autonotebook import tqdm as notebook_tqdm\n"
     ]
    }
   ],
   "source": [
    "import torch\n",
    "data = torch.tensor([\n",
    "    [[1, 2, 3, 4], [5, 6, 7, 8], [9, 10, 11, 12]],\n",
    "    [[13, 14, 15, 16], [17, 18, 19, 20], [21, 22, 23, 24]]\n",
    "])"
   ]
  },
  {
   "cell_type": "code",
   "execution_count": 3,
   "metadata": {},
   "outputs": [
    {
     "data": {
      "text/plain": [
       "torch.Size([2, 3, 4])"
      ]
     },
     "execution_count": 3,
     "metadata": {},
     "output_type": "execute_result"
    }
   ],
   "source": [
    "data.shape\n",
    "# [level, max_point, feature_num]"
   ]
  },
  {
   "cell_type": "code",
   "execution_count": 8,
   "metadata": {},
   "outputs": [],
   "source": [
    "index = torch.tensor([\n",
    "    [[0, 1, 2], [1, 2, 3], [2, 3, 0]],\n",
    "    [[0, 1, 2], [1, 2, 3], [2, 3, 0]]\n",
    "])\n"
   ]
  },
  {
   "cell_type": "code",
   "execution_count": 9,
   "metadata": {},
   "outputs": [
    {
     "name": "stdout",
     "output_type": "stream",
     "text": [
      "torch.Size([2, 3, 3])\n"
     ]
    }
   ],
   "source": [
    "print(index.shape)"
   ]
  },
  {
   "cell_type": "code",
   "execution_count": 10,
   "metadata": {},
   "outputs": [],
   "source": [
    "gathered = torch.gather(data, 2, index)"
   ]
  },
  {
   "cell_type": "code",
   "execution_count": 11,
   "metadata": {},
   "outputs": [
    {
     "data": {
      "text/plain": [
       "tensor([[[ 1,  2,  3],\n",
       "         [ 6,  7,  8],\n",
       "         [11, 12,  9]],\n",
       "\n",
       "        [[13, 14, 15],\n",
       "         [18, 19, 20],\n",
       "         [23, 24, 21]]])"
      ]
     },
     "execution_count": 11,
     "metadata": {},
     "output_type": "execute_result"
    }
   ],
   "source": [
    "gathered"
   ]
  },
  {
   "cell_type": "code",
   "execution_count": 12,
   "metadata": {},
   "outputs": [
    {
     "data": {
      "text/plain": [
       "torch.Size([2, 3, 3])"
      ]
     },
     "execution_count": 12,
     "metadata": {},
     "output_type": "execute_result"
    }
   ],
   "source": [
    "gathered.shape"
   ]
  },
  {
   "cell_type": "code",
   "execution_count": 66,
   "metadata": {},
   "outputs": [
    {
     "name": "stdout",
     "output_type": "stream",
     "text": [
      "torch.Size([2, 3, 2])\n"
     ]
    }
   ],
   "source": [
    "data  = torch.tensor(\n",
    "    [\n",
    "        [\n",
    "            [0,1],\n",
    "            [2,3],\n",
    "            [4,5]\n",
    "        ],\n",
    "        [\n",
    "            [6,7],\n",
    "            [8,9],\n",
    "            [10, 11]\n",
    "        ]\n",
    "    ]\n",
    ")\n",
    "print(data.shape)"
   ]
  },
  {
   "cell_type": "code",
   "execution_count": 70,
   "metadata": {},
   "outputs": [
    {
     "name": "stdout",
     "output_type": "stream",
     "text": [
      "torch.Size([2, 2])\n"
     ]
    },
    {
     "data": {
      "text/plain": [
       "'\\nindex.unsqueeze(1)\\ntensor(\\n        [\\n            [\\n                [0, 1]\\n            ],\\n\\n            [\\n                [0, 1]\\n            ]\\n        ]\\n    )\\n'"
      ]
     },
     "execution_count": 70,
     "metadata": {},
     "output_type": "execute_result"
    }
   ],
   "source": [
    "index = torch.tensor(\n",
    "    [\n",
    "        [0,1],\n",
    "        [0,2]\n",
    "    ]\n",
    ")\n",
    "print(index.shape)\n",
    "# Expected sliced output\n",
    "'''\n",
    "torch.tensor(\n",
    "    [[[0,1],[2,3]],\n",
    "    [[6,7],[8,9]]]\n",
    ")\n",
    "'''\n",
    "# index = index.unsqueeze(1)\n",
    "# print(index)\n",
    "# print(index.shape)\n",
    "'''\n",
    "index.unsqueeze(1)\n",
    "tensor(\n",
    "        [\n",
    "            [\n",
    "                [0, 1]\n",
    "            ],\n",
    "\n",
    "            [\n",
    "                [0, 1]\n",
    "            ]\n",
    "        ]\n",
    "    )\n",
    "'''\n"
   ]
  },
  {
   "cell_type": "code",
   "execution_count": 71,
   "metadata": {},
   "outputs": [],
   "source": [
    "result = torch.gather(data, 1, index.unsqueeze(-1).expand(-1, -1, data.size(-1)))\n"
   ]
  },
  {
   "cell_type": "code",
   "execution_count": 72,
   "metadata": {},
   "outputs": [
    {
     "data": {
      "text/plain": [
       "tensor([[[ 0,  1],\n",
       "         [ 2,  3]],\n",
       "\n",
       "        [[ 6,  7],\n",
       "         [10, 11]]])"
      ]
     },
     "execution_count": 72,
     "metadata": {},
     "output_type": "execute_result"
    }
   ],
   "source": [
    "result"
   ]
  },
  {
   "cell_type": "code",
   "execution_count": null,
   "metadata": {},
   "outputs": [],
   "source": []
  }
 ],
 "metadata": {
  "kernelspec": {
   "display_name": "hm_healpy",
   "language": "python",
   "name": "python3"
  },
  "language_info": {
   "codemirror_mode": {
    "name": "ipython",
    "version": 3
   },
   "file_extension": ".py",
   "mimetype": "text/x-python",
   "name": "python",
   "nbconvert_exporter": "python",
   "pygments_lexer": "ipython3",
   "version": "3.10.11"
  },
  "orig_nbformat": 4,
  "vscode": {
   "interpreter": {
    "hash": "fd1e3d8a790aff406c5ed9cd7914ac413e69510a0dab2a8571e25ded1bd4a827"
   }
  }
 },
 "nbformat": 4,
 "nbformat_minor": 2
}
